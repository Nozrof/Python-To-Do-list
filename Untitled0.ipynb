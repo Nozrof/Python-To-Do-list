{
  "nbformat": 4,
  "nbformat_minor": 0,
  "metadata": {
    "colab": {
      "name": "Untitled0.ipynb",
      "provenance": [],
      "authorship_tag": "ABX9TyOQzkDw6c5gvx5S8+qIQFxw",
      "include_colab_link": true
    },
    "kernelspec": {
      "name": "python3",
      "display_name": "Python 3"
    }
  },
  "cells": [
    {
      "cell_type": "markdown",
      "metadata": {
        "id": "view-in-github",
        "colab_type": "text"
      },
      "source": [
        "<a href=\"https://colab.research.google.com/github/Nozrof/Python-To-Do-list/blob/main/Untitled0.ipynb\" target=\"_parent\"><img src=\"https://colab.research.google.com/assets/colab-badge.svg\" alt=\"Open In Colab\"/></a>"
      ]
    },
    {
      "cell_type": "code",
      "metadata": {
        "colab": {
          "base_uri": "https://localhost:8080/"
        },
        "id": "j419oWKpXpQj",
        "outputId": "9d4ea00a-fa36-4147-94a2-00e2a05b971c"
      },
      "source": [
        "data = []\r\n",
        "choice = 'random'\r\n",
        "\r\n",
        "def line():\r\n",
        "    print(' ')\r\n",
        "\r\n",
        "def show_menu():\r\n",
        "    line()\r\n",
        "    print('Please Select one option😊😊😊')\r\n",
        "    print(' ')\r\n",
        "    print('1. Add course')\r\n",
        "    print('2. Unenroll')\r\n",
        "    print('3. View courses list')\r\n",
        "    print('4. Exit')\r\n",
        "    print(' ')\r\n",
        "    choice = input('Enter your choice: ')\r\n",
        "    return choice\r\n",
        "\r\n",
        "while choice != '4':\r\n",
        "    choice = show_menu()\r\n",
        "    if choice == '1':\r\n",
        "        save = input('Please Enter your Course name? : ')\r\n",
        "        data.append(save)\r\n",
        "        print('Course', save, 'added')\r\n",
        "        print('Want to add more course name?')\r\n",
        "        new = input('yes or no for add more course : ')\r\n",
        "        while new == 'yes' :\r\n",
        "              save = input('Please Enter your Course name? : ')\r\n",
        "              data.append(save)\r\n",
        "              print('Course', save, 'added')\r\n",
        "              new = input('yes or no for add more course : ')\r\n",
        "           \r\n",
        "\r\n",
        "\r\n",
        "    elif choice == '2':\r\n",
        "        save = input('Unenroll course? ')\r\n",
        "        if save in data:\r\n",
        "            data.remove(save)\r\n",
        "            print('Unenrolled course', save)\r\n",
        "        else:\r\n",
        "            print('Could not find course name or error input data', save)\r\n",
        "    elif choice == '3':\r\n",
        "        print('List of the courses:')\r\n",
        "        for save in data:\r\n",
        "            print(save)\r\n",
        "    elif choice == '4':\r\n",
        "        print('Goodbye!')\r\n",
        "    else:\r\n",
        "        print('Please enter one of 1, 2, 3 or 4')"
      ],
      "execution_count": null,
      "outputs": [
        {
          "output_type": "stream",
          "text": [
            " \n",
            "Please Select one option😊😊😊\n",
            " \n",
            "1. Add course\n",
            "2. Unenroll\n",
            "3. View courses list\n",
            "4. Exit\n",
            " \n",
            "Enter your choice: 1\n"
          ],
          "name": "stdout"
        }
      ]
    }
  ]
}